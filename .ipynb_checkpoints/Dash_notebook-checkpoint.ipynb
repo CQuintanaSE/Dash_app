{
 "cells": [
  {
   "cell_type": "markdown",
   "id": "897e3199-32fb-44ed-97f0-6210a88be0ba",
   "metadata": {},
   "source": [
    "#  Learning Dash"
   ]
  },
  {
   "cell_type": "markdown",
   "id": "665f1193-bd91-45c9-9e6d-51fa28f8c6dc",
   "metadata": {},
   "source": [
    "## by Cristian Quintana\n",
    "\n",
    "## cquintan@cern.ch"
   ]
  },
  {
   "cell_type": "markdown",
   "id": "195c0415-7f0a-4b45-94b1-6cb055166b06",
   "metadata": {},
   "source": [
    "## Generating a new environment and installing packages:\n",
    "\n",
    "    Let's open a terminal (LINUX)\n",
    "\tMake a dir and cd:\n",
    "mkdir Dash_Jupyter\n",
    "\n",
    "cd Dash_Jupyter\n",
    "\n",
    "\n",
    "\tCreate a new environment and activate (OPTIONAL):\n",
    "python3 -m venv DashJ\n",
    "\n",
    "source DashJ/bin/activate\n",
    "\n",
    "\tInstall packages:\n",
    "python -m pip install dash==2.8.1 pandas==1.5.3 jupyter jupyter_dash==0.4.2 dash_bootstrap_components openpyxl datetime \n",
    "\n",
    "    Open jupyter lab:\n",
    "jupyter lab\n"
   ]
  },
  {
   "cell_type": "markdown",
   "id": "88c45ae9-3312-4676-9c49-ee5e816cb097",
   "metadata": {},
   "source": [
    "## The script"
   ]
  },
  {
   "cell_type": "code",
   "execution_count": 20,
   "id": "25168432-dd91-44e6-98eb-4bff7f7fb9c9",
   "metadata": {},
   "outputs": [],
   "source": [
    "# IMPORT Packages\n",
    "from dash import Dash, dcc, html, Input, Output, State # Dash\n",
    "import dash_bootstrap_components as dbc\n",
    "from jupyter_dash import JupyterDash   # Dash for Jupyter\n",
    "import subprocess                      # Download files\n",
    "import os\n",
    "import pandas as pd                    # data\n",
    "import plotly.express as px            # plot easy\n",
    "import plotly.graph_objects as go      # plot hard\n",
    "from datetime import date\n",
    "\n",
    "import plotly.io as pio\n",
    "pio.renderers.default = 'notebook'"
   ]
  },
  {
   "cell_type": "markdown",
   "id": "fa9cdc2b-cb3b-45a4-8268-f648397f16ce",
   "metadata": {},
   "source": [
    "python -m pip install dash==2.8.1 pandas==1.5.3 jupyter jupyter_dash==0.4.2 dash_bootstrap_components openpyxl\n",
    "# EXERCISE: READING FROM Google spreadsheet (excel)"
   ]
  },
  {
   "cell_type": "markdown",
   "id": "3fd1ae3b-f14e-482e-8213-5a0d0db46298",
   "metadata": {},
   "source": [
    "ENLACE: https://docs.google.com/spreadsheets/d/1p_yg1YlVpL7izGE6PcFni9sC4WNzQaMPtMWlO234lmI/edit?usp=sharing"
   ]
  },
  {
   "cell_type": "markdown",
   "id": "08c2252f-03a9-4126-ab92-58896bb82879",
   "metadata": {},
   "source": [
    "## Download and format"
   ]
  },
  {
   "cell_type": "code",
   "execution_count": 2,
   "id": "72d15cfe-683e-4c30-bd4f-7daa4e0e27ca",
   "metadata": {},
   "outputs": [
    {
     "name": "stdout",
     "output_type": "stream",
     "text": [
      "Done! -> Downloaded file\n"
     ]
    },
    {
     "data": {
      "text/html": [
       "<div>\n",
       "<style scoped>\n",
       "    .dataframe tbody tr th:only-of-type {\n",
       "        vertical-align: middle;\n",
       "    }\n",
       "\n",
       "    .dataframe tbody tr th {\n",
       "        vertical-align: top;\n",
       "    }\n",
       "\n",
       "    .dataframe thead th {\n",
       "        text-align: right;\n",
       "    }\n",
       "</style>\n",
       "<table border=\"1\" class=\"dataframe\">\n",
       "  <thead>\n",
       "    <tr style=\"text-align: right;\">\n",
       "      <th></th>\n",
       "      <th>Nombre</th>\n",
       "      <th>Valoracion Curso</th>\n",
       "      <th>Valoracion Dash</th>\n",
       "      <th>Conjunto</th>\n",
       "    </tr>\n",
       "  </thead>\n",
       "  <tbody>\n",
       "    <tr>\n",
       "      <th>0</th>\n",
       "      <td>Alba</td>\n",
       "      <td>1</td>\n",
       "      <td>1</td>\n",
       "      <td>1</td>\n",
       "    </tr>\n",
       "    <tr>\n",
       "      <th>1</th>\n",
       "      <td>Helena</td>\n",
       "      <td>3</td>\n",
       "      <td>1</td>\n",
       "      <td>4</td>\n",
       "    </tr>\n",
       "    <tr>\n",
       "      <th>2</th>\n",
       "      <td>Alicia</td>\n",
       "      <td>3</td>\n",
       "      <td>3</td>\n",
       "      <td>5</td>\n",
       "    </tr>\n",
       "    <tr>\n",
       "      <th>3</th>\n",
       "      <td>Juan</td>\n",
       "      <td>3</td>\n",
       "      <td>3</td>\n",
       "      <td>1</td>\n",
       "    </tr>\n",
       "    <tr>\n",
       "      <th>4</th>\n",
       "      <td>Carlos</td>\n",
       "      <td>1</td>\n",
       "      <td>1</td>\n",
       "      <td>4</td>\n",
       "    </tr>\n",
       "  </tbody>\n",
       "</table>\n",
       "</div>"
      ],
      "text/plain": [
       "   Nombre  Valoracion Curso  Valoracion Dash  Conjunto\n",
       "0    Alba                 1                1         1\n",
       "1  Helena                 3                1         4\n",
       "2  Alicia                 3                3         5\n",
       "3    Juan                 3                3         1\n",
       "4  Carlos                 1                1         4"
      ]
     },
     "execution_count": 2,
     "metadata": {},
     "output_type": "execute_result"
    }
   ],
   "source": [
    "# ------> Excel\n",
    "# Make the document public \n",
    "# copy link \n",
    "# Generate download link in: https://www.graytechnical.com/blog/google-drive-online-download-link-generator-files-sheets-and-docs-online/\n",
    "\n",
    "def download_as(url, name=\"\", dir=\"Data_files/\"):\n",
    "    # Rename \n",
    "    if name != \"\":\n",
    "        command = f'wget --output-document={dir+name} {url}'\n",
    "    else:\n",
    "        command = f'wget {url} -P {dir}'\n",
    "        \n",
    "    subprocess.run(command, shell=True, stderr=subprocess.DEVNULL)\n",
    "    print(\"Done! -> Downloaded file\")\n",
    "\n",
    "# DOWNLOAD\n",
    "filename = \"Dashboard_excel.xlsx\"\n",
    "url = \"https://docs.google.com/spreadsheets/d/1p_yg1YlVpL7izGE6PcFni9sC4WNzQaMPtMWlO234lmI/export?format=xlsx\"\n",
    "download_as(url, filename)\n",
    "\n",
    "# FORMAT to dataframe\n",
    "excel_data = pd.read_excel(\"Data_files/\"+filename, skiprows = 5)\n",
    "excel_data.head()"
   ]
  },
  {
   "cell_type": "markdown",
   "id": "ab19641f-d66b-4ab9-b0eb-aba162b67e9e",
   "metadata": {},
   "source": [
    "## Make the app"
   ]
  },
  {
   "cell_type": "code",
   "execution_count": 16,
   "id": "dd7ada77-c5e8-4566-9281-80523f0ec1fa",
   "metadata": {},
   "outputs": [
    {
     "name": "stdout",
     "output_type": "stream",
     "text": [
      "Dash app running on http://127.0.0.1:8050/\n"
     ]
    }
   ],
   "source": [
    "app = JupyterDash(__name__, external_stylesheets=[dbc.themes.CYBORG])\n",
    "\n",
    "header = \"\"\" \\t Encuesta sobre el curso\n",
    "         \"\"\"\n",
    "style_header = {'margin-left':'500px', 'margin-top':'40px', 'margin-right':'15px', 'margin-bottom':'40px'}\n",
    "\n",
    "Histo1 = px.histogram(excel_data, x=\"Valoracion Curso\", nbins=5, range_x=[0.5, 5.5])\n",
    "Histo2 = px.histogram(excel_data, x=\"Valoracion Dash\", nbins=5, range_x=[0.5, 5.5])\n",
    "Histo3 = px.histogram(excel_data, x=\"Conjunto\",  nbins=5, range_x=[0.5, 5.5])\n",
    "\n",
    "# go.FigureWidget(Histo1)\n",
    "\n",
    "app.layout = dbc.Container(\n",
    "    [\n",
    "        dbc.Row(html.H5(header), style = style_header),\n",
    "        dbc.Row(\n",
    "            [\n",
    "                dbc.Col(dcc.Graph(figure = Histo1, id=\"H1\")),\n",
    "                dbc.Col(dcc.Graph(figure = Histo2, id=\"H2\")),\n",
    "                dbc.Col(dcc.Graph(figure = Histo3, id=\"H3\")),\n",
    "            ]\n",
    "        ),\n",
    "         dbc.Row([dbc.Col(html.Button('Actualizar datos', id='update-data', n_clicks=0), width = 2),\n",
    "                  dbc.Col(html.Div(children=\"Text\", id='update-date'), width = 8),\n",
    "                 ]),\n",
    "    ]\n",
    ")\n",
    "\n",
    "def replot(Histo1, Histo2, Histo3, data1, data2, data3):\n",
    "    Histo1.update_traces(x=data1)\n",
    "    Histo2.update_traces(x=data2)\n",
    "    Histo3.update_traces(x=data3)\n",
    "\n",
    "@app.callback(\n",
    "    Output('update-date', 'children'),\n",
    "    Output('H1', 'figure'),\n",
    "    Output('H2', 'figure'),\n",
    "    Output('H3', 'figure'),\n",
    "    Input('update-data', 'n_clicks'),\n",
    ")\n",
    "def update_output(n_clicks):\n",
    "    if n_clicks>0: \n",
    "        filename = \"Dashboard_excel.xlsx\"\n",
    "        url = \"https://docs.google.com/spreadsheets/d/1p_yg1YlVpL7izGE6PcFni9sC4WNzQaMPtMWlO234lmI/export?format=xlsx\"\n",
    "        download_as(url, filename)\n",
    "        excel_data = pd.read_excel(\"Data_files/\"+filename, skiprows = 5)\n",
    "        data1, data2, data3 = excel_data[\"Valoracion Curso\"], excel_data[\"Valoracion Dash\"], excel_data[\"Conjunto\"]\n",
    "        replot(Histo1, Histo2, Histo3, data1, data2, data3)\n",
    "        text = (\"Actualizado! ->  \"+subprocess.run(\"date\", shell=True, capture_output=True, text=True).stdout.strip())\n",
    "    else:\n",
    "        text = (\"Los ficheros de datos no han sido actualizados desde el inicio de la sesión\")\n",
    "\n",
    "    return text, Histo1, Histo2, Histo3\n",
    "\n",
    "\n",
    "if __name__ == \"__main__\":\n",
    "    app.run_server(debug=True)\n"
   ]
  },
  {
   "cell_type": "code",
   "execution_count": null,
   "id": "1cd4feed-d7fb-44fa-89a0-418ee41ccf2b",
   "metadata": {},
   "outputs": [],
   "source": []
  },
  {
   "cell_type": "markdown",
   "id": "1a169216-3f3b-4e12-b3ba-01ee3864218f",
   "metadata": {},
   "source": [
    "# EXERCISE: READING FROM WEB (Covid Data)"
   ]
  },
  {
   "cell_type": "code",
   "execution_count": 4,
   "id": "b8ff94ce-6cbf-4e62-8af9-6f8cb1d65bee",
   "metadata": {
    "scrolled": true
   },
   "outputs": [
    {
     "name": "stderr",
     "output_type": "stream",
     "text": [
      "--2023-06-20 10:09:38--  https://opendata.ecdc.europa.eu/covid19/nationalcasedeath_eueea_daily_ei/csv/data.csv\n",
      "Resolving opendata.ecdc.europa.eu (opendata.ecdc.europa.eu)... 88.131.255.63\n",
      "Connecting to opendata.ecdc.europa.eu (opendata.ecdc.europa.eu)|88.131.255.63|:443... connected.\n",
      "HTTP request sent, awaiting response... 200 OK\n",
      "Length: 1697172 (1.6M) [application/octet-stream]\n",
      "Saving to: ‘Data_files/data.csv’\n",
      "\n",
      "     0K .......... .......... .......... .......... ..........  3%  359K 4s\n",
      "    50K .......... .......... .......... .......... ..........  6%  711K 3s\n",
      "   100K .......... .......... .......... .......... ..........  9%  728K 3s\n",
      "   150K .......... .......... .......... .......... .......... 12%  747K 3s\n",
      "   200K .......... .......... .......... .......... .......... 15% 4.85M 2s\n",
      "   250K .......... .......... .......... .......... .......... 18%  807K 2s\n",
      "   300K .......... .......... .......... .......... .......... 21% 4.50M 2s\n",
      "   350K .......... .......... .......... .......... .......... 24%  924K 2s\n",
      "   400K .......... .......... .......... .......... .......... 27% 3.24M 1s\n",
      "   450K .......... .......... .......... .......... .......... 30% 10.7M 1s\n",
      "   500K .......... .......... .......... .......... .......... 33% 26.8M 1s\n",
      "   550K .......... .......... .......... .......... .......... 36%  992K 1s\n",
      "   600K .......... .......... .......... .......... .......... 39% 3.13M 1s\n",
      "   650K .......... .......... .......... .......... .......... 42% 6.62M 1s\n",
      "   700K .......... .......... .......... .......... .......... 45% 18.8M 1s\n",
      "   750K .......... .......... .......... .......... .......... 48% 1.18M 1s\n",
      "   800K .......... .......... .......... .......... .......... 51% 3.44M 1s\n",
      "   850K .......... .......... .......... .......... .......... 54% 4.57M 1s\n",
      "   900K .......... .......... .......... .......... .......... 57% 22.5M 0s\n",
      "   950K .......... .......... .......... .......... .......... 60% 24.6M 0s\n",
      "  1000K .......... .......... .......... .......... .......... 63% 19.7M 0s\n",
      "  1050K .......... .......... .......... .......... .......... 66% 11.9M 0s\n",
      "  1100K .......... .......... .......... .......... .......... 69% 2.06M 0s\n",
      "  1150K .......... .......... .......... .......... .......... 72% 3.49M 0s\n",
      "  1200K .......... .......... .......... .......... .......... 75% 4.92M 0s\n",
      "  1250K .......... .......... .......... .......... .......... 78% 6.90M 0s\n",
      "  1300K .......... .......... .......... .......... .......... 81% 2.98M 0s\n",
      "  1350K .......... .......... .......... .......... .......... 84%  179M 0s\n",
      "  1400K .......... .......... .......... .......... .......... 87% 8.50M 0s\n",
      "  1450K .......... .......... .......... .......... .......... 90% 13.2M 0s\n",
      "  1500K .......... .......... .......... .......... .......... 93%  649K 0s\n",
      "  1550K .......... .......... .......... .......... .......... 96% 17.8M 0s\n",
      "  1600K .......... .......... .......... .......... .......... 99% 21.6M 0s\n",
      "  1650K .......                                               100%  567M=0.8s\n",
      "\n",
      "2023-06-20 10:09:39 (1.97 MB/s) - ‘Data_files/data.csv’ saved [1697172/1697172]\n",
      "\n"
     ]
    },
    {
     "data": {
      "text/plain": [
       "CompletedProcess(args='mv Data_files/data.csv Data_files/covid_Europe.csv', returncode=0)"
      ]
     },
     "execution_count": 4,
     "metadata": {},
     "output_type": "execute_result"
    }
   ],
   "source": [
    "# DOWNLOAD datafiles\n",
    "url = 'https://opendata.ecdc.europa.eu/covid19/nationalcasedeath_eueea_daily_ei/csv/data.csv'\n",
    "command = f'wget {url} -P Data_files/'\n",
    "subprocess.run(command, shell=True)\n",
    "subprocess.run('mv Data_files/data.csv Data_files/covid_Europe.csv', shell=True)"
   ]
  },
  {
   "cell_type": "code",
   "execution_count": 5,
   "id": "46fd03a7-f17d-4d75-a34a-a909499d3c92",
   "metadata": {},
   "outputs": [],
   "source": [
    "# LOAD Data file(s)\n",
    "\n",
    "data = (pd.read_csv(\"Data_files/covid_Europe.csv\"))"
   ]
  },
  {
   "cell_type": "code",
   "execution_count": 6,
   "id": "03fb2334-08ac-4d78-98b6-ae8f73820b31",
   "metadata": {},
   "outputs": [
    {
     "name": "stdout",
     "output_type": "stream",
     "text": [
      "      dateRep  day  month  year    cases  deaths countriesAndTerritories  \\\n",
      "0  23/10/2022   23     10  2022   3557.0     0.0                 Austria   \n",
      "1  22/10/2022   22     10  2022   5494.0     4.0                 Austria   \n",
      "2  21/10/2022   21     10  2022   7776.0     4.0                 Austria   \n",
      "3  20/10/2022   20     10  2022   8221.0     6.0                 Austria   \n",
      "4  19/10/2022   19     10  2022  10007.0     8.0                 Austria   \n",
      "\n",
      "  geoId countryterritoryCode  popData2020 continentExp  \n",
      "0    AT                  AUT      8901064       Europe  \n",
      "1    AT                  AUT      8901064       Europe  \n",
      "2    AT                  AUT      8901064       Europe  \n",
      "3    AT                  AUT      8901064       Europe  \n",
      "4    AT                  AUT      8901064       Europe  \n"
     ]
    }
   ],
   "source": [
    "print(data.head())"
   ]
  },
  {
   "cell_type": "code",
   "execution_count": 7,
   "id": "8910d3b8-d051-4d4c-8289-90e4b38b497c",
   "metadata": {},
   "outputs": [
    {
     "name": "stdout",
     "output_type": "stream",
     "text": [
      "          dateRep  day  month  year    cases  deaths countriesAndTerritories  \\\n",
      "26816  21/10/2022   21     10  2022  25422.0    75.0                   Spain   \n",
      "26817  14/10/2022   14     10  2022  20652.0    68.0                   Spain   \n",
      "26818  07/10/2022    7     10  2022  10843.0    68.0                   Spain   \n",
      "26819  04/10/2022    4     10  2022   8114.0    83.0                   Spain   \n",
      "26820  30/09/2022   30      9  2022  10721.0    95.0                   Spain   \n",
      "\n",
      "      geoId countryterritoryCode  popData2020 continentExp       Date  \n",
      "26816    ES                  ESP     47332614       Europe 2022-10-21  \n",
      "26817    ES                  ESP     47332614       Europe 2022-10-14  \n",
      "26818    ES                  ESP     47332614       Europe 2022-10-07  \n",
      "26819    ES                  ESP     47332614       Europe 2022-10-04  \n",
      "26820    ES                  ESP     47332614       Europe 2022-09-30  \n"
     ]
    }
   ],
   "source": [
    "# DATA Selection\n",
    "data[\"Date\"] = pd.to_datetime(data[\"dateRep\"], format=\"%d/%m/%Y\")\n",
    "\n",
    "spain_data = data[data[\"countriesAndTerritories\"] == \"Spain\"]\n",
    "print(spain_data.head())"
   ]
  },
  {
   "cell_type": "code",
   "execution_count": 8,
   "id": "e6b470f4-8943-40e0-8a4f-8a0ac8c86e52",
   "metadata": {},
   "outputs": [
    {
     "name": "stdout",
     "output_type": "stream",
     "text": [
      "['Austria' 'Belgium' 'Bulgaria' 'Croatia' 'Cyprus' 'Czechia' 'Denmark'\n",
      " 'Estonia' 'Finland' 'France' 'Germany' 'Greece' 'Hungary' 'Iceland'\n",
      " 'Ireland' 'Italy' 'Latvia' 'Liechtenstein' 'Lithuania' 'Luxembourg'\n",
      " 'Malta' 'Netherlands' 'Norway' 'Poland' 'Portugal' 'Romania' 'Slovakia'\n",
      " 'Slovenia' 'Spain' 'Sweden']\n"
     ]
    }
   ],
   "source": [
    "regions = data[\"countriesAndTerritories\"].sort_values().unique()\n",
    "print(regions)"
   ]
  },
  {
   "cell_type": "code",
   "execution_count": 31,
   "id": "9edf77be-25ea-4d20-a2f0-743a77235bd5",
   "metadata": {},
   "outputs": [
    {
     "name": "stdout",
     "output_type": "stream",
     "text": [
      "Dash app running on http://127.0.0.1:8050/\n"
     ]
    }
   ],
   "source": [
    "#--------------- Parameters ----------------------------------------------------------------------------\n",
    "# FIGURES\n",
    "WH_set1 = [900,400]\n",
    "\n",
    "figs = {}\n",
    "#\n",
    "figs[\"CasesAndDeaths\"] = go.Figure() # Plot cases and Deaths vs date\n",
    "figs[\"CasesCountries\"] = go.Figure()\n",
    "\n",
    "#--------------- Functions -----------------------------------------------------------------------------\n",
    "\n",
    "\"\"\" Crear una función que me permita descargar el set de datos de una url en un directorio determinado\n",
    "    Si se le aporta como argumento un nombre, el fichero descargado es renombrado\n",
    "    Opcional: Return o print mensaje \"Compleatado\"\n",
    "\"\"\" \n",
    "def download_as(url, name=\"\", dir=\"Data_files/\"):\n",
    "    # Rename \n",
    "    if name != \"\":\n",
    "        command = f'wget --output-document={dir+name} {url}'\n",
    "    else:\n",
    "        command = f'wget {url} -P {dir}'\n",
    "        \n",
    "    subprocess.run(command, shell=True, stderr=subprocess.DEVNULL)\n",
    "    print(\"Done! -> Downloaded file\")\n",
    "    \n",
    "\n",
    "\"\"\" La función lee el fichero de datos con pandas.\n",
    "    Como primer argumento un str con el nombre de un país -> sub dataset del país\n",
    "    Como segundo argumento lista de str de paises -> lista de sub datasets\n",
    "    retorna datos completos, datos del país, datos de los paises  (lista)\n",
    "\"\"\"\n",
    "def get_datasets(Country = \"Spain\", Countries = [\"Spain\",\"France\",\"Germany\"]):\n",
    "    # Leer csv\n",
    "    data = (pd.read_csv(\"Data_files/covid_Europe.csv\"))\n",
    "    # Crear columna \"Date\" con formato datetime\n",
    "    data[\"Date\"] = pd.to_datetime(data[\"dateRep\"], format=\"%d/%m/%Y\")\n",
    "    # Generar dataset y lista de datasets\n",
    "    country_data = data[data[\"countriesAndTerritories\"] == Country]\n",
    "    countries_data = [data[data[\"countriesAndTerritories\"] == _c] for _c in Countries]\n",
    "\n",
    "    return data, country_data, countries_data\n",
    "\n",
    "\"\"\" Función que genera las figuras con PLOTLY!\n",
    "    Tiene como argumentos los mismos argumentos que la anterior además de el return de la anterior\n",
    "    country (str), country_data (dataset), countries [str], countries_data [datasets]\n",
    "\"\"\"\n",
    "def gen_figs(country, country_data, countries, countries_data):\n",
    "    figs = {}\n",
    "    \n",
    "    # Figures of one single country (First section)\n",
    "    # Figure CasesAndDeaths\n",
    "    figs[\"CasesAndDeaths\"] = go.Figure()\n",
    "    figs[\"CasesAndDeaths\"].add_trace(go.Scatter(x=country_data[\"Date\"], y=country_data[\"cases\"]/country_data[\"cases\"].max(),\n",
    "                        mode='lines',\n",
    "                        name='Cases'))\n",
    "    figs[\"CasesAndDeaths\"].add_trace(go.Scatter(x=country_data[\"Date\"], y=country_data[\"deaths\"]/country_data[\"deaths\"].max(),\n",
    "                        mode='lines',\n",
    "                        name='Deaths'))\n",
    "    figs[\"CasesAndDeaths\"].update_layout(\n",
    "                       xaxis_title='Date',\n",
    "                       yaxis_title='Normallized to max',\n",
    "                       title='Visualizando '+country)\n",
    "\n",
    "    # Figures of one multiple countries (Second section)\n",
    "    # Figure CasesCountries\n",
    "    figs[\"CasesCountries\"] = go.Figure()\n",
    "    N_countries = len(countries)\n",
    "    if N_countries>0:\n",
    "        for i in range(N_countries):\n",
    "            tdata = countries_data[i]\n",
    "            figs[\"CasesCountries\"].add_trace(go.Scatter(x=tdata[\"Date\"], y=tdata[\"cases\"],\n",
    "                        mode='lines',\n",
    "                        name=countries[i]))\n",
    "\n",
    "    return figs\n",
    "\n",
    "#--------------- Building the app ------------------------------------------------------------------------------\n",
    "\n",
    "app = JupyterDash(__name__, external_stylesheets=[dbc.themes.MINTY])\n",
    "\n",
    "header = \"\"\"Dashboard interactivo con los últimos datos de Covid para Europa hasta final del seguimiento. \n",
    "         En los diferentes apartados podrás acceder a los datos individuales de cada país europeo así como realizar comparaciones entre ellos\n",
    "         o seleccionar el rango de fechas a estudiar.\n",
    "         \"\"\"\n",
    "\n",
    "style_1 = {'margin-left':'15px', 'margin-top':'10px', 'margin-right':'15px', 'margin-bottom':'15px'}\n",
    "\n",
    "app.layout = html.Div(\n",
    "    [\n",
    "        dbc.Row(dbc.Col(html.Img(src=\"assets/LogoDash.png\"), width = 10)),\n",
    "        dbc.Row(dbc.Col(html.H5(header), width = 10), style = style_1),\n",
    "        dbc.Row([dbc.Col(html.Button('Actualizar datos', id='update-data', n_clicks=0),\n",
    "                         style = style_1, width = 1),\n",
    "                 dbc.Col(html.Div(children=\"\", id='update-date'),\n",
    "                         style = style_1, width = 9),\n",
    "                 \n",
    "                ]),\n",
    "        dbc.Row(dbc.Col(html.Img(src=\"assets/LineDash.png\"), width = 10)),\n",
    "\n",
    "        dbc.Row(\n",
    "            [\n",
    "                dbc.Col([dcc.Dropdown(\n",
    "                            id=\"region-filter\",\n",
    "                            options=[\n",
    "                                {\"label\": region, \"value\": region}\n",
    "                                for region in regions\n",
    "                            ],\n",
    "                            value=\"Spain\",\n",
    "                            clearable=False,\n",
    "                            className=\"dropdown\",\n",
    "                        ), \n",
    "                        dcc.DatePickerRange(\n",
    "                        id='datePicker',\n",
    "                        min_date_allowed=date(2020, 1, 1),\n",
    "                        max_date_allowed=date(2022, 10, 19),\n",
    "                        start_date=date(2020, 1, 1),\n",
    "                        end_date=date(2022, 10, 19),\n",
    "                        ),\n",
    "                        ],\n",
    "                        width = 3,style = style_1),\n",
    "                dbc.Col(dcc.Graph(figure = figs[\"CasesAndDeaths\"], id=\"F_CD\"), width = 7)\n",
    "            ]\n",
    "        ),\n",
    "        dbc.Row(dbc.Col(html.Img(src=\"assets/LineDash.png\"), width = 10)),\n",
    "\n",
    "        dbc.Row(\n",
    "            [\n",
    "                dbc.Col(dcc.Dropdown(\n",
    "                            id=\"countries-filter\",\n",
    "                            options=[\n",
    "                                {\"label\": region, \"value\": region}\n",
    "                                for region in regions\n",
    "                            ],\n",
    "                            value=[\"Spain\", \"Portugal\", \"Germany\"],\n",
    "                            multi=True,\n",
    "                            clearable=False,\n",
    "                            className=\"dropdown\",\n",
    "                        ), \n",
    "                        width = 3,style = style_1),\n",
    "                dbc.Col(dcc.Graph(figure = figs[\"CasesCountries\"], id=\"F_CC\"), width = 7)\n",
    "            ]\n",
    "        ),\n",
    "\n",
    "        dbc.Row(dbc.Col(html.Img(src=\"assets/LineDash.png\"), width = 10)),\n",
    "\n",
    "\n",
    "    ]\n",
    ")\n",
    "\n",
    "@app.callback(\n",
    "    Output('update-date', 'children'),\n",
    "    Output('update-data', 'n_clicks'),\n",
    "    Output('F_CD', 'figure'),\n",
    "    Output('F_CC', 'figure'),\n",
    "    Input('update-data', 'n_clicks'),\n",
    "    Input('region-filter', 'value'),\n",
    "    Input('countries-filter', 'value'),\n",
    "    Input('datePicker', 'start_date'),\n",
    "    Input('datePicker', 'end_date')\n",
    ")\n",
    "def update_output(n_clicks, region, countries, start_date, end_date):\n",
    "    if not isinstance(countries, list):\n",
    "        countries = [countries]\n",
    "    \n",
    "    if n_clicks > 0: \n",
    "        url = 'https://opendata.ecdc.europa.eu/covid19/nationalcasedeath_eueea_daily_ei/csv/data.csv'\n",
    "        download_as(url, name = \"covid_Europe.csv\")\n",
    "        text = \"Actualizado! -> \"+subprocess.run(\"date\", shell=True, capture_output=True, text=True).stdout.strip()\n",
    "    else:\n",
    "        text = \"Los ficheros de datos no han sido actualizados desde el inicio de la sesión\"\n",
    "\n",
    "\n",
    "    data, country_data, countries_data = get_datasets(Country = region, Countries = countries)\n",
    "\n",
    "    if start_date != None and end_date != None:\n",
    "        country_data = country_data[(country_data['Date'] >= start_date) & (country_data['Date'] <= end_date)]\n",
    "    \n",
    "    figs = gen_figs(region, country_data, countries, countries_data)\n",
    "    #return text, 0, figs[\"CasesAndDeaths\"], figs[\"CasesCountries\"]\n",
    "    return text, 0, *figs.values()\n",
    "\n",
    "\n",
    "#--------------- Launch/Update the app ------------------------------------------------------------------------------\n",
    "if __name__ == \"__main__\":\n",
    "    app.run_server(debug=True)"
   ]
  },
  {
   "cell_type": "code",
   "execution_count": null,
   "id": "cea1d6cd-888f-4874-8ee8-fb4f08a955ef",
   "metadata": {},
   "outputs": [],
   "source": []
  },
  {
   "cell_type": "markdown",
   "id": "a723af72-ff49-47e0-a93f-7e58d341331d",
   "metadata": {},
   "source": [
    "# Biblio\n",
    "\n",
    "https://dash-bootstrap-components.opensource.faculty.ai/docs/components/layout/"
   ]
  }
 ],
 "metadata": {
  "kernelspec": {
   "display_name": "Python 3 (ipykernel)",
   "language": "python",
   "name": "python3"
  },
  "language_info": {
   "codemirror_mode": {
    "name": "ipython",
    "version": 3
   },
   "file_extension": ".py",
   "mimetype": "text/x-python",
   "name": "python",
   "nbconvert_exporter": "python",
   "pygments_lexer": "ipython3",
   "version": "3.10.6"
  }
 },
 "nbformat": 4,
 "nbformat_minor": 5
}
