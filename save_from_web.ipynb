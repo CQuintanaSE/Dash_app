{
 "cells": [
  {
   "cell_type": "markdown",
   "id": "82c2555f-5e6b-457c-b881-148c609c4f68",
   "metadata": {},
   "source": [
    "## Cómo obtener la fecha de actualización de un fichero de datos de una web desde el código"
   ]
  },
  {
   "cell_type": "code",
   "execution_count": 9,
   "id": "55485177-728b-4df3-ba30-aa87f22a9167",
   "metadata": {},
   "outputs": [
    {
     "name": "stdout",
     "output_type": "stream",
     "text": [
      "10/27/2022  9:30 AM\n"
     ]
    }
   ],
   "source": [
    "import requests\n",
    "\n",
    "# Fetch the web page content\n",
    "url = \"https://opendata.ecdc.europa.eu/covid19/nationalcasedeath_eueea_daily_ei/\"  # Replace with the actual URL of the web page\n",
    "webpage = requests.get(url, {'Cache-Control': 'no-cache'})\n",
    "text = webpage.text\n",
    "\n",
    "# Split the content into lines\n",
    "lines = text.split(\"\\n\")\n",
    "\n",
    "# Search for a specific line and get the previous line\n",
    "search_str = \"/csv/\"  # Replace with the line you want to search\n",
    "info_line = \"\"\n",
    "\n",
    "for i, line in enumerate(lines):\n",
    "    if search_str in line:\n",
    "        info_line = line\n",
    "        break\n",
    "\n",
    "#print(info_line)\n",
    "\n",
    "# Perform the cuts\n",
    "cut_post = '        &lt;dir&gt; <A HREF=\"/covid19/nationalcasedeath_eueea_daily_ei/csv'\n",
    "idx_cut = info_line.find(cut_post)\n",
    "\n",
    "dateStr =  info_line[idx_cut-len(\"10/27/2022  9:30 AM\"):idx_cut]\n",
    "print(dateStr)"
   ]
  },
  {
   "cell_type": "code",
   "execution_count": null,
   "id": "f4425164-7167-46e2-b2ce-4842e91c428a",
   "metadata": {},
   "outputs": [],
   "source": []
  }
 ],
 "metadata": {
  "kernelspec": {
   "display_name": "Python 3 (ipykernel)",
   "language": "python",
   "name": "python3"
  },
  "language_info": {
   "codemirror_mode": {
    "name": "ipython",
    "version": 3
   },
   "file_extension": ".py",
   "mimetype": "text/x-python",
   "name": "python",
   "nbconvert_exporter": "python",
   "pygments_lexer": "ipython3",
   "version": "3.10.6"
  }
 },
 "nbformat": 4,
 "nbformat_minor": 5
}
